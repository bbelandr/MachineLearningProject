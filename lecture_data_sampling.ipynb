{
 "cells": [
  {
   "cell_type": "markdown",
   "metadata": {},
   "source": [
    "### Importing Required Packages"
   ]
  },
  {
   "cell_type": "code",
   "execution_count": 1,
   "metadata": {},
   "outputs": [],
   "source": [
    "import os\n",
    "import pandas as pd\n",
    "import matplotlib as plt\n",
    "import numpy as np"
   ]
  },
  {
   "cell_type": "markdown",
   "metadata": {},
   "source": [
    "### Read In Lecture Data"
   ]
  },
  {
   "cell_type": "code",
   "execution_count": 42,
   "metadata": {},
   "outputs": [
    {
     "name": "stdout",
     "output_type": "stream",
     "text": [
      "(1021, 5)\n"
     ]
    },
    {
     "data": {
      "text/html": [
       "<div>\n",
       "<style scoped>\n",
       "    .dataframe tbody tr th:only-of-type {\n",
       "        vertical-align: middle;\n",
       "    }\n",
       "\n",
       "    .dataframe tbody tr th {\n",
       "        vertical-align: top;\n",
       "    }\n",
       "\n",
       "    .dataframe thead th {\n",
       "        text-align: right;\n",
       "    }\n",
       "</style>\n",
       "<table border=\"1\" class=\"dataframe\">\n",
       "  <thead>\n",
       "    <tr style=\"text-align: right;\">\n",
       "      <th></th>\n",
       "      <th>lecture_id</th>\n",
       "      <th>part</th>\n",
       "      <th>tags</th>\n",
       "      <th>video_length</th>\n",
       "      <th>deployed_at</th>\n",
       "    </tr>\n",
       "  </thead>\n",
       "  <tbody>\n",
       "    <tr>\n",
       "      <th>0</th>\n",
       "      <td>l520</td>\n",
       "      <td>5</td>\n",
       "      <td>142</td>\n",
       "      <td>-1</td>\n",
       "      <td>-1</td>\n",
       "    </tr>\n",
       "    <tr>\n",
       "      <th>1</th>\n",
       "      <td>l592</td>\n",
       "      <td>6</td>\n",
       "      <td>142</td>\n",
       "      <td>-1</td>\n",
       "      <td>-1</td>\n",
       "    </tr>\n",
       "    <tr>\n",
       "      <th>2</th>\n",
       "      <td>l1259</td>\n",
       "      <td>1</td>\n",
       "      <td>222</td>\n",
       "      <td>359000</td>\n",
       "      <td>1570424729123</td>\n",
       "    </tr>\n",
       "    <tr>\n",
       "      <th>3</th>\n",
       "      <td>l1260</td>\n",
       "      <td>1</td>\n",
       "      <td>220</td>\n",
       "      <td>487000</td>\n",
       "      <td>1570424738105</td>\n",
       "    </tr>\n",
       "    <tr>\n",
       "      <th>4</th>\n",
       "      <td>l1261</td>\n",
       "      <td>1</td>\n",
       "      <td>221</td>\n",
       "      <td>441000</td>\n",
       "      <td>1570424743162</td>\n",
       "    </tr>\n",
       "  </tbody>\n",
       "</table>\n",
       "</div>"
      ],
      "text/plain": [
       "  lecture_id  part  tags  video_length    deployed_at\n",
       "0       l520     5   142            -1             -1\n",
       "1       l592     6   142            -1             -1\n",
       "2      l1259     1   222        359000  1570424729123\n",
       "3      l1260     1   220        487000  1570424738105\n",
       "4      l1261     1   221        441000  1570424743162"
      ]
     },
     "execution_count": 42,
     "metadata": {},
     "output_type": "execute_result"
    }
   ],
   "source": [
    "lect_data = pd.read_csv(\"Data/contents/lectures.csv\")\n",
    "print(lect_data.shape)\n",
    "lect_data.head()"
   ]
  },
  {
   "cell_type": "markdown",
   "metadata": {},
   "source": [
    "#### Removing Non-valid Values from the Dataset"
   ]
  },
  {
   "cell_type": "code",
   "execution_count": 59,
   "metadata": {},
   "outputs": [
    {
     "name": "stdout",
     "output_type": "stream",
     "text": [
      "(584, 3)\n"
     ]
    },
    {
     "data": {
      "text/html": [
       "<div>\n",
       "<style scoped>\n",
       "    .dataframe tbody tr th:only-of-type {\n",
       "        vertical-align: middle;\n",
       "    }\n",
       "\n",
       "    .dataframe tbody tr th {\n",
       "        vertical-align: top;\n",
       "    }\n",
       "\n",
       "    .dataframe thead th {\n",
       "        text-align: right;\n",
       "    }\n",
       "</style>\n",
       "<table border=\"1\" class=\"dataframe\">\n",
       "  <thead>\n",
       "    <tr style=\"text-align: right;\">\n",
       "      <th></th>\n",
       "      <th>lecture_id</th>\n",
       "      <th>part</th>\n",
       "      <th>tags</th>\n",
       "    </tr>\n",
       "  </thead>\n",
       "  <tbody>\n",
       "    <tr>\n",
       "      <th>0</th>\n",
       "      <td>l520</td>\n",
       "      <td>5</td>\n",
       "      <td>142</td>\n",
       "    </tr>\n",
       "    <tr>\n",
       "      <th>1</th>\n",
       "      <td>l592</td>\n",
       "      <td>6</td>\n",
       "      <td>142</td>\n",
       "    </tr>\n",
       "    <tr>\n",
       "      <th>2</th>\n",
       "      <td>l1259</td>\n",
       "      <td>1</td>\n",
       "      <td>222</td>\n",
       "    </tr>\n",
       "    <tr>\n",
       "      <th>3</th>\n",
       "      <td>l1260</td>\n",
       "      <td>1</td>\n",
       "      <td>220</td>\n",
       "    </tr>\n",
       "    <tr>\n",
       "      <th>4</th>\n",
       "      <td>l1261</td>\n",
       "      <td>1</td>\n",
       "      <td>221</td>\n",
       "    </tr>\n",
       "  </tbody>\n",
       "</table>\n",
       "</div>"
      ],
      "text/plain": [
       "  lecture_id  part  tags\n",
       "0       l520     5   142\n",
       "1       l592     6   142\n",
       "2      l1259     1   222\n",
       "3      l1260     1   220\n",
       "4      l1261     1   221"
      ]
     },
     "execution_count": 59,
     "metadata": {},
     "output_type": "execute_result"
    }
   ],
   "source": [
    "# Data Featuring on the lect_data\n",
    "lect_data = lect_data.loc[lect_data['tags'] != -1]\n",
    "lect_data = lect_data.loc[:, ['lecture_id', 'part', 'tags']]\n",
    "print(lect_data.shape)\n",
    "lect_data.head()"
   ]
  },
  {
   "cell_type": "code",
   "execution_count": 60,
   "metadata": {},
   "outputs": [
    {
     "name": "stdout",
     "output_type": "stream",
     "text": [
      "Largest tag: 298\n",
      "\n",
      "Smallest tag: 1\n",
      "\n"
     ]
    }
   ],
   "source": [
    "# Largest and Smallest Tag\n",
    "# - what we will base our future loop on for matching question_id's with tags\n",
    "largest_tag = lect_data['tags'].max()\n",
    "smallest_tag = lect_data['tags'].min()\n",
    "print(f\"Largest tag: {largest_tag}\\n\")\n",
    "print(f\"Smallest tag: {smallest_tag}\\n\")"
   ]
  },
  {
   "cell_type": "markdown",
   "metadata": {},
   "source": [
    "### Reading in Question Data"
   ]
  },
  {
   "cell_type": "code",
   "execution_count": 53,
   "metadata": {},
   "outputs": [
    {
     "name": "stdout",
     "output_type": "stream",
     "text": [
      "(13169, 7)\n"
     ]
    },
    {
     "data": {
      "text/html": [
       "<div>\n",
       "<style scoped>\n",
       "    .dataframe tbody tr th:only-of-type {\n",
       "        vertical-align: middle;\n",
       "    }\n",
       "\n",
       "    .dataframe tbody tr th {\n",
       "        vertical-align: top;\n",
       "    }\n",
       "\n",
       "    .dataframe thead th {\n",
       "        text-align: right;\n",
       "    }\n",
       "</style>\n",
       "<table border=\"1\" class=\"dataframe\">\n",
       "  <thead>\n",
       "    <tr style=\"text-align: right;\">\n",
       "      <th></th>\n",
       "      <th>question_id</th>\n",
       "      <th>bundle_id</th>\n",
       "      <th>explanation_id</th>\n",
       "      <th>correct_answer</th>\n",
       "      <th>part</th>\n",
       "      <th>tags</th>\n",
       "      <th>deployed_at</th>\n",
       "    </tr>\n",
       "  </thead>\n",
       "  <tbody>\n",
       "    <tr>\n",
       "      <th>0</th>\n",
       "      <td>q1</td>\n",
       "      <td>b1</td>\n",
       "      <td>e1</td>\n",
       "      <td>b</td>\n",
       "      <td>1</td>\n",
       "      <td>1;2;179;181</td>\n",
       "      <td>1.558090e+12</td>\n",
       "    </tr>\n",
       "    <tr>\n",
       "      <th>1</th>\n",
       "      <td>q2</td>\n",
       "      <td>b2</td>\n",
       "      <td>e2</td>\n",
       "      <td>a</td>\n",
       "      <td>1</td>\n",
       "      <td>15;2;182</td>\n",
       "      <td>1.558090e+12</td>\n",
       "    </tr>\n",
       "    <tr>\n",
       "      <th>2</th>\n",
       "      <td>q3</td>\n",
       "      <td>b3</td>\n",
       "      <td>e3</td>\n",
       "      <td>b</td>\n",
       "      <td>1</td>\n",
       "      <td>14;2;179;183</td>\n",
       "      <td>1.558090e+12</td>\n",
       "    </tr>\n",
       "    <tr>\n",
       "      <th>3</th>\n",
       "      <td>q4</td>\n",
       "      <td>b4</td>\n",
       "      <td>e4</td>\n",
       "      <td>b</td>\n",
       "      <td>1</td>\n",
       "      <td>9;2;179;184</td>\n",
       "      <td>1.558090e+12</td>\n",
       "    </tr>\n",
       "    <tr>\n",
       "      <th>4</th>\n",
       "      <td>q5</td>\n",
       "      <td>b5</td>\n",
       "      <td>e5</td>\n",
       "      <td>c</td>\n",
       "      <td>1</td>\n",
       "      <td>8;2;179;181</td>\n",
       "      <td>1.558090e+12</td>\n",
       "    </tr>\n",
       "  </tbody>\n",
       "</table>\n",
       "</div>"
      ],
      "text/plain": [
       "  question_id bundle_id explanation_id correct_answer  part          tags  \\\n",
       "0          q1        b1             e1              b     1   1;2;179;181   \n",
       "1          q2        b2             e2              a     1      15;2;182   \n",
       "2          q3        b3             e3              b     1  14;2;179;183   \n",
       "3          q4        b4             e4              b     1   9;2;179;184   \n",
       "4          q5        b5             e5              c     1   8;2;179;181   \n",
       "\n",
       "    deployed_at  \n",
       "0  1.558090e+12  \n",
       "1  1.558090e+12  \n",
       "2  1.558090e+12  \n",
       "3  1.558090e+12  \n",
       "4  1.558090e+12  "
      ]
     },
     "execution_count": 53,
     "metadata": {},
     "output_type": "execute_result"
    }
   ],
   "source": [
    "question_data = pd.read_csv(\"Data/contents/questions.csv\")\n",
    "question_data.columns = question_data.columns.str.strip() # removing white space from column heads\n",
    "print(question_data.shape)\n",
    "question_data.head()"
   ]
  },
  {
   "cell_type": "code",
   "execution_count": 54,
   "metadata": {},
   "outputs": [
    {
     "data": {
      "text/html": [
       "<div>\n",
       "<style scoped>\n",
       "    .dataframe tbody tr th:only-of-type {\n",
       "        vertical-align: middle;\n",
       "    }\n",
       "\n",
       "    .dataframe tbody tr th {\n",
       "        vertical-align: top;\n",
       "    }\n",
       "\n",
       "    .dataframe thead th {\n",
       "        text-align: right;\n",
       "    }\n",
       "</style>\n",
       "<table border=\"1\" class=\"dataframe\">\n",
       "  <thead>\n",
       "    <tr style=\"text-align: right;\">\n",
       "      <th></th>\n",
       "      <th>question_id</th>\n",
       "      <th>explanation_id</th>\n",
       "      <th>part</th>\n",
       "      <th>tags</th>\n",
       "    </tr>\n",
       "  </thead>\n",
       "  <tbody>\n",
       "    <tr>\n",
       "      <th>0</th>\n",
       "      <td>q1</td>\n",
       "      <td>e1</td>\n",
       "      <td>1</td>\n",
       "      <td>1;2;179;181</td>\n",
       "    </tr>\n",
       "    <tr>\n",
       "      <th>1</th>\n",
       "      <td>q2</td>\n",
       "      <td>e2</td>\n",
       "      <td>1</td>\n",
       "      <td>15;2;182</td>\n",
       "    </tr>\n",
       "    <tr>\n",
       "      <th>2</th>\n",
       "      <td>q3</td>\n",
       "      <td>e3</td>\n",
       "      <td>1</td>\n",
       "      <td>14;2;179;183</td>\n",
       "    </tr>\n",
       "    <tr>\n",
       "      <th>3</th>\n",
       "      <td>q4</td>\n",
       "      <td>e4</td>\n",
       "      <td>1</td>\n",
       "      <td>9;2;179;184</td>\n",
       "    </tr>\n",
       "    <tr>\n",
       "      <th>4</th>\n",
       "      <td>q5</td>\n",
       "      <td>e5</td>\n",
       "      <td>1</td>\n",
       "      <td>8;2;179;181</td>\n",
       "    </tr>\n",
       "  </tbody>\n",
       "</table>\n",
       "</div>"
      ],
      "text/plain": [
       "  question_id explanation_id  part          tags\n",
       "0          q1             e1     1   1;2;179;181\n",
       "1          q2             e2     1      15;2;182\n",
       "2          q3             e3     1  14;2;179;183\n",
       "3          q4             e4     1   9;2;179;184\n",
       "4          q5             e5     1   8;2;179;181"
      ]
     },
     "execution_count": 54,
     "metadata": {},
     "output_type": "execute_result"
    }
   ],
   "source": [
    "question_data = question_data.loc[:, ['question_id', 'explanation_id', 'part','tags']]\n",
    "question_data.head()"
   ]
  },
  {
   "cell_type": "markdown",
   "metadata": {},
   "source": [
    "## Combining Data Sets\n",
    "#### Steps:\n",
    "    1. loop through each question_data and create a new dataframe\n",
    "        - the new csv will separate each tag into its own row index and have a list of questions associated with the tag\n",
    "        - tag: 2 -> question_id: q1, a2, etc...\n",
    "    2.  The new dataframe can be used in comparison with what the students studied and their answer on the question\n",
    "    \n",
    "    Goal:\n",
    "    Find the average question score for each tag\n",
    "        - might be able to provide more use info for the model to learn on since it could show how some \n",
    "          tags have more difficult questions then others"
   ]
  },
  {
   "cell_type": "markdown",
   "metadata": {},
   "source": [
    "#### Reading in combined_data Set"
   ]
  },
  {
   "cell_type": "code",
   "execution_count": 55,
   "metadata": {},
   "outputs": [
    {
     "data": {
      "text/html": [
       "<div>\n",
       "<style scoped>\n",
       "    .dataframe tbody tr th:only-of-type {\n",
       "        vertical-align: middle;\n",
       "    }\n",
       "\n",
       "    .dataframe tbody tr th {\n",
       "        vertical-align: top;\n",
       "    }\n",
       "\n",
       "    .dataframe thead th {\n",
       "        text-align: right;\n",
       "    }\n",
       "</style>\n",
       "<table border=\"1\" class=\"dataframe\">\n",
       "  <thead>\n",
       "    <tr style=\"text-align: right;\">\n",
       "      <th></th>\n",
       "      <th>student_id</th>\n",
       "      <th>question_id</th>\n",
       "      <th>bundle_id</th>\n",
       "      <th>tags</th>\n",
       "      <th>elapsed_time</th>\n",
       "      <th>correct</th>\n",
       "    </tr>\n",
       "  </thead>\n",
       "  <tbody>\n",
       "    <tr>\n",
       "      <th>0</th>\n",
       "      <td>1</td>\n",
       "      <td>7</td>\n",
       "      <td>7</td>\n",
       "      <td>11;7;179;183</td>\n",
       "      <td>26000</td>\n",
       "      <td>1.0</td>\n",
       "    </tr>\n",
       "    <tr>\n",
       "      <th>1</th>\n",
       "      <td>1</td>\n",
       "      <td>7</td>\n",
       "      <td>7</td>\n",
       "      <td>11;7;179;183</td>\n",
       "      <td>37000</td>\n",
       "      <td>0.0</td>\n",
       "    </tr>\n",
       "    <tr>\n",
       "      <th>2</th>\n",
       "      <td>1</td>\n",
       "      <td>10</td>\n",
       "      <td>10</td>\n",
       "      <td>17;7;182</td>\n",
       "      <td>28000</td>\n",
       "      <td>0.0</td>\n",
       "    </tr>\n",
       "    <tr>\n",
       "      <th>3</th>\n",
       "      <td>1</td>\n",
       "      <td>10</td>\n",
       "      <td>10</td>\n",
       "      <td>17;7;182</td>\n",
       "      <td>26000</td>\n",
       "      <td>0.0</td>\n",
       "    </tr>\n",
       "    <tr>\n",
       "      <th>4</th>\n",
       "      <td>1</td>\n",
       "      <td>11</td>\n",
       "      <td>11</td>\n",
       "      <td>15;2;181</td>\n",
       "      <td>42000</td>\n",
       "      <td>0.0</td>\n",
       "    </tr>\n",
       "  </tbody>\n",
       "</table>\n",
       "</div>"
      ],
      "text/plain": [
       "   student_id  question_id  bundle_id          tags  elapsed_time  correct\n",
       "0           1            7          7  11;7;179;183         26000      1.0\n",
       "1           1            7          7  11;7;179;183         37000      0.0\n",
       "2           1           10         10      17;7;182         28000      0.0\n",
       "3           1           10         10      17;7;182         26000      0.0\n",
       "4           1           11         11      15;2;181         42000      0.0"
      ]
     },
     "execution_count": 55,
     "metadata": {},
     "output_type": "execute_result"
    }
   ],
   "source": [
    "combined_data = pd.read_csv(\"Data/combined_dataset.csv\")\n",
    "combined_data.head()"
   ]
  },
  {
   "cell_type": "markdown",
   "metadata": {},
   "source": [
    "#### Step 1: Combining the tags with the question_ids"
   ]
  },
  {
   "cell_type": "code",
   "execution_count": 70,
   "metadata": {},
   "outputs": [
    {
     "data": {
      "text/html": [
       "<div>\n",
       "<style scoped>\n",
       "    .dataframe tbody tr th:only-of-type {\n",
       "        vertical-align: middle;\n",
       "    }\n",
       "\n",
       "    .dataframe tbody tr th {\n",
       "        vertical-align: top;\n",
       "    }\n",
       "\n",
       "    .dataframe thead th {\n",
       "        text-align: right;\n",
       "    }\n",
       "</style>\n",
       "<table border=\"1\" class=\"dataframe\">\n",
       "  <thead>\n",
       "    <tr style=\"text-align: right;\">\n",
       "      <th></th>\n",
       "      <th>tag</th>\n",
       "      <th>question_ids</th>\n",
       "    </tr>\n",
       "  </thead>\n",
       "  <tbody>\n",
       "    <tr>\n",
       "      <th>0</th>\n",
       "      <td>1</td>\n",
       "      <td>None</td>\n",
       "    </tr>\n",
       "    <tr>\n",
       "      <th>1</th>\n",
       "      <td>2</td>\n",
       "      <td>None</td>\n",
       "    </tr>\n",
       "    <tr>\n",
       "      <th>2</th>\n",
       "      <td>3</td>\n",
       "      <td>None</td>\n",
       "    </tr>\n",
       "    <tr>\n",
       "      <th>3</th>\n",
       "      <td>4</td>\n",
       "      <td>None</td>\n",
       "    </tr>\n",
       "    <tr>\n",
       "      <th>4</th>\n",
       "      <td>5</td>\n",
       "      <td>None</td>\n",
       "    </tr>\n",
       "  </tbody>\n",
       "</table>\n",
       "</div>"
      ],
      "text/plain": [
       "   tag question_ids\n",
       "0    1         None\n",
       "1    2         None\n",
       "2    3         None\n",
       "3    4         None\n",
       "4    5         None"
      ]
     },
     "execution_count": 70,
     "metadata": {},
     "output_type": "execute_result"
    }
   ],
   "source": [
    "# lec_ques = {\n",
    "#     'tag':[] ,\n",
    "#     'question_ids':[]\n",
    "# }\n",
    "tags = list(range(smallest_tag, largest_tag))\n",
    "question_ids = [None] * len(tags)\n",
    "lec_ques = pd.DataFrame({'tag': tags, 'question_ids':question_ids})\n",
    "\n",
    "lec_ques.head()"
   ]
  },
  {
   "cell_type": "code",
   "execution_count": null,
   "metadata": {},
   "outputs": [],
   "source": []
  }
 ],
 "metadata": {
  "kernelspec": {
   "display_name": "cs325-homeworks",
   "language": "python",
   "name": "cs325-homeworks"
  },
  "language_info": {
   "codemirror_mode": {
    "name": "ipython",
    "version": 3
   },
   "file_extension": ".py",
   "mimetype": "text/x-python",
   "name": "python",
   "nbconvert_exporter": "python",
   "pygments_lexer": "ipython3",
   "version": "3.13.5"
  }
 },
 "nbformat": 4,
 "nbformat_minor": 4
}
