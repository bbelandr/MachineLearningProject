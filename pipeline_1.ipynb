{
 "cells": [
  {
   "cell_type": "code",
   "execution_count": 1,
   "id": "2c05dbcb-bc3b-455e-8f20-48175c49f0e8",
   "metadata": {},
   "outputs": [],
   "source": [
    "import pandas as pd\n",
    "import numpy as np\n",
    "import matplotlib.pyplot as plt"
   ]
  },
  {
   "cell_type": "markdown",
   "id": "2ea1bb8d-6050-4760-8bae-5fa4fd8bf229",
   "metadata": {
    "collapsed": true,
    "jupyter": {
     "outputs_hidden": true
    }
   },
   "source": [
    "### Data Content Description\n",
    "- **timestamp** is the moment the question was given, represented as Unix timestamp in milliseconds.\n",
    "- **solving_id** represents each learning session of students corresponds to each bunle. It is a form of single\n",
    "integer, starting from 1 .\n",
    "- **question_id** is the ID of the question that given to student, which is a form of q{integer}.\n",
    "- **user_answer** is the answer that the student submitted, recorded as a character between a and d inclusively.\n",
    "- **elapsed_time** is the time that the students spends on each question in milliseconds."
   ]
  },
  {
   "cell_type": "markdown",
   "id": "075b1155-faf3-4cdf-b8de-592f63e39f0f",
   "metadata": {},
   "source": [
    "#### Reading in Data"
   ]
  },
  {
   "cell_type": "code",
   "execution_count": 2,
   "id": "36bbf8e7-ccee-42a6-9e37-2760b4f6193c",
   "metadata": {},
   "outputs": [
    {
     "name": "stdout",
     "output_type": "stream",
     "text": [
      "Sample of the data set:\n",
      "          timestamp  solving_id question_id user_answer  elapsed_time\n",
      "0     1565096190868           1       q5012           b         38000\n",
      "1     1565096221062           2       q4706           c         24000\n",
      "2     1565096293432           3       q4366           b         68000\n",
      "3     1565096339668           4       q4829           a         42000\n",
      "4     1565096401774           5       q6528           b         59000\n",
      "...             ...         ...         ...         ...           ...\n",
      "1077  1569646668189         670       q3413           b          8000\n",
      "1078  1569646668212         670       q3411           c          8000\n",
      "1079  1569647442981         671       q2602           a          7000\n",
      "1080  1569647442986         671       q2603           a          7000\n",
      "1081  1569647443041         671       q2601           c          7000\n",
      "\n",
      "[1082 rows x 5 columns]\n"
     ]
    }
   ],
   "source": [
    "sample_data = pd.read_csv(\"Data/Sample_KT1/u1.csv\")\n",
    "print(f\"Sample of the data set:\\n{sample_data}\")"
   ]
  },
  {
   "cell_type": "code",
   "execution_count": 3,
   "id": "7d48e179-e4c0-457e-b5e6-f832f720788f",
   "metadata": {},
   "outputs": [
    {
     "name": "stdout",
     "output_type": "stream",
     "text": [
      "The answers for the questions associated with the data set:\n",
      "      question_id bundle_id explanation_id correct_answer  part  \\\n",
      "0              q1        b1             e1              b     1   \n",
      "1              q2        b2             e2              a     1   \n",
      "2              q3        b3             e3              b     1   \n",
      "3              q4        b4             e4              b     1   \n",
      "4              q5        b5             e5              c     1   \n",
      "...           ...       ...            ...            ...   ...   \n",
      "13164      q18139    b12202         e12202              b     2   \n",
      "13165      q18140    b12203         e12203              a     2   \n",
      "13166      q18141    b12204         e12204              a     2   \n",
      "13167      q18142    b12205         e12205              a     2   \n",
      "13168      q18143    b12206         e12206              c     2   \n",
      "\n",
      "                   tags   deployed_at  \n",
      "0           1;2;179;181  1.558090e+12  \n",
      "1              15;2;182  1.558090e+12  \n",
      "2          14;2;179;183  1.558090e+12  \n",
      "3           9;2;179;184  1.558090e+12  \n",
      "4           8;2;179;181  1.558090e+12  \n",
      "...                 ...           ...  \n",
      "13164     24;26;183;182  1.571730e+12  \n",
      "13165     24;33;183;182  1.571730e+12  \n",
      "13166     24;26;183;182  1.571730e+12  \n",
      "13167     24;26;183;182  1.571730e+12  \n",
      "13168  27;24;26;183;182  1.571730e+12  \n",
      "\n",
      "[13169 rows x 7 columns]\n"
     ]
    }
   ],
   "source": [
    "question_data = pd.read_csv(\"Data/contents/questions.csv\")\n",
    "print(f\"The answers for the questions associated with the data set:\\n{question_data}\")"
   ]
  },
  {
   "cell_type": "markdown",
   "id": "2c23c231-2be5-4cd1-ac15-5b5426092c29",
   "metadata": {},
   "source": [
    "### Data Featuring\n",
    "- remove the letters from the question, bundle, and explanation sections\n",
    "- one-hot encoded the user_answer column in sample_data and correct_answer column in question_data"
   ]
  },
  {
   "cell_type": "code",
   "execution_count": 4,
   "id": "adcc4fcd-f538-4ce5-ab06-1d83e8a42d32",
   "metadata": {},
   "outputs": [],
   "source": [
    "def clean_data(df, cols):\n",
    "    # cols - cols to clean\n",
    "    # df - dataframe\n",
    "    for col in cols:\n",
    "        df[col] = df[col].str[1:]\n",
    "\n",
    "    return df"
   ]
  },
  {
   "cell_type": "code",
   "execution_count": 5,
   "id": "773b09ce-3255-406a-bc99-995f8ecc425a",
   "metadata": {},
   "outputs": [
    {
     "name": "stdout",
     "output_type": "stream",
     "text": [
      "Sample data set after basic data featuring:\n",
      "          timestamp  solving_id question_id  elapsed_time  user_answer_b  \\\n",
      "0     1565096190868           1        5012         38000              1   \n",
      "1     1565096221062           2        4706         24000              0   \n",
      "2     1565096293432           3        4366         68000              1   \n",
      "3     1565096339668           4        4829         42000              0   \n",
      "4     1565096401774           5        6528         59000              1   \n",
      "...             ...         ...         ...           ...            ...   \n",
      "1077  1569646668189         670        3413          8000              1   \n",
      "1078  1569646668212         670        3411          8000              0   \n",
      "1079  1569647442981         671        2602          7000              0   \n",
      "1080  1569647442986         671        2603          7000              0   \n",
      "1081  1569647443041         671        2601          7000              0   \n",
      "\n",
      "      user_answer_c  user_answer_d  \n",
      "0                 0              0  \n",
      "1                 1              0  \n",
      "2                 0              0  \n",
      "3                 0              0  \n",
      "4                 0              0  \n",
      "...             ...            ...  \n",
      "1077              0              0  \n",
      "1078              1              0  \n",
      "1079              0              0  \n",
      "1080              0              0  \n",
      "1081              1              0  \n",
      "\n",
      "[1082 rows x 7 columns]\n",
      "\n",
      "\n",
      "Question data set after basic data featuring:\n",
      "      question_id bundle_id explanation_id  part              tags  \\\n",
      "0               1         1              1     1       1;2;179;181   \n",
      "1               2         2              2     1          15;2;182   \n",
      "2               3         3              3     1      14;2;179;183   \n",
      "3               4         4              4     1       9;2;179;184   \n",
      "4               5         5              5     1       8;2;179;181   \n",
      "...           ...       ...            ...   ...               ...   \n",
      "13164       18139     12202          12202     2     24;26;183;182   \n",
      "13165       18140     12203          12203     2     24;33;183;182   \n",
      "13166       18141     12204          12204     2     24;26;183;182   \n",
      "13167       18142     12205          12205     2     24;26;183;182   \n",
      "13168       18143     12206          12206     2  27;24;26;183;182   \n",
      "\n",
      "        deployed_at  correct_answer_b  correct_answer_c  correct_answer_d  \n",
      "0      1.558090e+12                 1                 0                 0  \n",
      "1      1.558090e+12                 0                 0                 0  \n",
      "2      1.558090e+12                 1                 0                 0  \n",
      "3      1.558090e+12                 1                 0                 0  \n",
      "4      1.558090e+12                 0                 1                 0  \n",
      "...             ...               ...               ...               ...  \n",
      "13164  1.571730e+12                 1                 0                 0  \n",
      "13165  1.571730e+12                 0                 0                 0  \n",
      "13166  1.571730e+12                 0                 0                 0  \n",
      "13167  1.571730e+12                 0                 0                 0  \n",
      "13168  1.571730e+12                 0                 1                 0  \n",
      "\n",
      "[13169 rows x 9 columns]\n"
     ]
    }
   ],
   "source": [
    "sample_data = clean_data(sample_data, ['question_id'])\n",
    "question_data = clean_data(question_data, ['question_id', 'bundle_id', 'explanation_id'])\n",
    "sample_data = pd.get_dummies(sample_data, columns=['user_answer'], drop_first=True, dtype=int)\n",
    "question_data = pd.get_dummies(question_data, columns=['correct_answer'], drop_first=True, dtype=int)\n",
    "\n",
    "\n",
    "print(f\"Sample data set after basic data featuring:\\n{sample_data}\\n\\n\")\n",
    "print(f\"Question data set after basic data featuring:\\n{question_data}\")"
   ]
  },
  {
   "cell_type": "code",
   "execution_count": null,
   "id": "85966a34-261c-46ad-9f16-12fa4142199a",
   "metadata": {},
   "outputs": [],
   "source": []
  }
 ],
 "metadata": {
  "kernelspec": {
   "display_name": "Python 3 (ipykernel)",
   "language": "python",
   "name": "python3"
  },
  "language_info": {
   "codemirror_mode": {
    "name": "ipython",
    "version": 3
   },
   "file_extension": ".py",
   "mimetype": "text/x-python",
   "name": "python",
   "nbconvert_exporter": "python",
   "pygments_lexer": "ipython3",
   "version": "3.11.0"
  }
 },
 "nbformat": 4,
 "nbformat_minor": 5
}
