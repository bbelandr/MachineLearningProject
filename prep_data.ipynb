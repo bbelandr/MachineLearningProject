{
 "cells": [
  {
   "cell_type": "markdown",
   "id": "7e29ce02",
   "metadata": {},
   "source": [
    "## Prepping Files for Model Juptyer Notebook\n",
    "The purpose of the notebook is to take files in the EdNet-KT1 data set and combine them together while also removing and changing some of the values in the columns. The changes will be outputted to a file called 'combined_dataset.csv'"
   ]
  },
  {
   "cell_type": "markdown",
   "id": "159f2182",
   "metadata": {},
   "source": [
    "#### Data Merging Preparation\n",
    "Our original dataset is comprised of one csv file per each of the 784k students, which results in massive overhead when reading in data. To prevent this, we're taking all of the relevant data and merging it into one unified dataset that can be easily read, navigated, and edited.\n",
    "kt1_dir = \"Data/KT1\"\n",
    "questions_fname = \"Data/contents/questions.csv\"\n"
   ]
  },
  {
   "cell_type": "code",
   "execution_count": null,
   "id": "8bd6ca6c",
   "metadata": {},
   "outputs": [],
   "source": [
    "\n",
    "# Load important columns of questions file (finding correct_answer and tags)\n",
    "# This only needs to be done once but we'll reference it multiple times per student interaction\n",
    "questions = (\n",
    "    pl.read_csv(questions_fname)\n",
    "    .with_columns([\n",
    "        pl.col(\"question_id\").str.replace(\"q\", \"\").cast(pl.Int32),\n",
    "        pl.col(\"bundle_id\").str.replace(\"b\", \"\").cast(pl.Int32),\n",
    "        pl.col(\"tags\").cast(pl.Utf8)\n",
    "    ])\n",
    "    .select([\"question_id\", \"correct_answer\", \"bundle_id\", \"tags\"])\n",
    ")\n",
    "\n",
    "\n",
    "student_files = [os.path.join(kt1_dir, f) for f in os.listdir(kt1_dir) if f.endswith(\".csv\")]\n",
    "\n",
    "dfs = []"
   ]
  },
  {
   "cell_type": "markdown",
   "id": "d5f52b63",
   "metadata": {},
   "source": [
    "### Data Fetching and Merging\n",
    "Here, we take all of the information that we need from each KT1 file and combine it into a single .csv"
   ]
  },
  {
   "cell_type": "code",
   "execution_count": null,
   "id": "6a8f5be4",
   "metadata": {},
   "outputs": [],
   "source": [
    "# For each interaction, we take the student_id, question_id, bundle_id, tags, elapsed_time, and whether they answered correctly\n",
    "for file in tqdm(student_files, desc=\"Progress\"):\n",
    "    # Take student_id from filename, remove 'u' prefix to make it int\n",
    "    student_id = int(os.path.basename(file).replace(\"u\", \"\").replace(\".csv\", \"\"))\n",
    "\n",
    "    df = (\n",
    "        pl.read_csv(file)\n",
    "        .with_columns([\n",
    "            pl.lit(student_id).alias(\"student_id\"),\n",
    "            pl.col(\"question_id\").str.replace(\"q\", \"\").cast(pl.Int32), # Remove 'q' prefix to make question_id int\n",
    "        ])\n",
    "        .join(questions, on=\"question_id\", how=\"left\")\n",
    "        .with_columns([\n",
    "            # Adds 'correct' column, which details if student got the question correct\n",
    "            (pl.col(\"user_answer\").str.strip_chars().str.to_lowercase() == pl.col(\"correct_answer\").str.strip_chars().str.to_lowercase())\n",
    "            .cast(pl.Int8)\n",
    "            .alias(\"correct\")\n",
    "        ])\n",
    "        .select([\"student_id\", \"question_id\", \"bundle_id\", \"tags\", \"elapsed_time\", \"correct\"])\n",
    "    )\n",
    "\n",
    "    # Tags are currently in a list, we need to flatten them so they work in csv\n",
    "    df = df.with_columns(\n",
    "        pl.col(\"tags\")\n",
    "        .cast(pl.Utf8)\n",
    "        .str.replace_all(r\"\\[|\\]|\\s\", \"\")\n",
    "        .str.replace_all(\",\", \";\")\n",
    "        .alias(\"tags\")\n",
    "    )\n",
    "\n",
    "    dfs.append(df)\n",
    "\n",
    "# Sort by student_id, then question_id\n",
    "final_df = pl.concat(dfs, how=\"vertical\").sort([\"student_id\", \"question_id\"])\n",
    "\n",
    "fname = \"combined_dataset.csv\"\n",
    "final_df.write_csv(fname)\n",
    "print(f\"Saved {fname}\")"
   ]
  }
 ],
 "metadata": {
  "kernelspec": {
   "display_name": "cs325-Project",
   "language": "python",
   "name": "python3"
  },
  "language_info": {
   "name": "python",
   "version": "3.12.11"
  }
 },
 "nbformat": 4,
 "nbformat_minor": 5
}
